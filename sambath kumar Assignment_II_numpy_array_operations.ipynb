{
  "cells": [
    {
      "cell_type": "markdown",
      "metadata": {
        "id": "x29XguhmGR9W"
      },
      "source": [
        "> ### **Assignment 2 - Numpy Array Operations** \n",
        ">\n",
        "\n",
        "\n",
        "Write a short introduction about Numpy and list the chosen functions. \n",
        "\n",
        "function1 = np.append \n",
        "\n",
        "function2 = np.average\n",
        "\n",
        "function3 = np.arange\n",
        "\n",
        "function4 = np.squeeze\n",
        "\n",
        "function5 = np.vstack\n",
        "\n",
        "\n"
      ]
    },
    {
      "cell_type": "code",
      "execution_count": 1,
      "metadata": {
        "id": "GYSxXBl6GR9c"
      },
      "outputs": [],
      "source": [
        "import numpy as np"
      ]
    },
    {
      "cell_type": "markdown",
      "metadata": {
        "id": "034D7-ScGR9e"
      },
      "source": [
        "## Function 1 - np.append\n",
        "np.append function add elements to the end of an array provided that the dimensions of the elements should be same."
      ]
    },
    {
      "cell_type": "code",
      "execution_count": 2,
      "metadata": {
        "colab": {
          "base_uri": "https://localhost:8080/"
        },
        "id": "6nQ1kfwAGR9e",
        "outputId": "56e9aed0-46b7-4488-873f-1114c295b292"
      },
      "outputs": [
        {
          "data": {
            "text/plain": [
              "array([ 1,  2,  1, 25, 26, 24, 23, 15])"
            ]
          },
          "execution_count": 2,
          "metadata": {},
          "output_type": "execute_result"
        }
      ],
      "source": [
        "# Example 1 - working (change this)\n",
        "arr1 = [1, 2, 1, 25, 26]\n",
        "np.append(arr1, [24, 23, 15])\n"
      ]
    },
    {
      "cell_type": "markdown",
      "metadata": {
        "id": "A-NpwrlcGR9f"
      },
      "source": [
        "We can put lists as an element inside the array, then append it with the expected lists or any element regardless of their size.\n",
        "\n"
      ]
    },
    {
      "cell_type": "code",
      "execution_count": 3,
      "metadata": {
        "id": "exvS7CpeGR9f"
      },
      "outputs": [
        {
          "data": {
            "text/plain": [
              "array([ 2,  4,  5,  6,  7,  8, 10, 12, 13, 14])"
            ]
          },
          "execution_count": 3,
          "metadata": {},
          "output_type": "execute_result"
        }
      ],
      "source": [
        "# Example 2 - working\n",
        "arr2 = [[2, 4, 5], [6, 7, 8]]\n",
        "np.append(arr2, [10, 12])\n",
        "np.append(arr2, [10, 12, 13, 14])"
      ]
    },
    {
      "cell_type": "markdown",
      "metadata": {
        "id": "IPHUMw0KGR9f"
      },
      "source": [
        "When axis is specified, arrays must have the same shape."
      ]
    },
    {
      "cell_type": "code",
      "execution_count": 4,
      "metadata": {
        "colab": {
          "base_uri": "https://localhost:8080/",
          "height": 391
        },
        "id": "HH6f3hRzGR9g",
        "outputId": "3ab7627f-0ba3-4bd1-9b23-e49978d2e912"
      },
      "outputs": [
        {
          "ename": "ValueError",
          "evalue": "all the input arrays must have same number of dimensions, but the array at index 0 has 2 dimension(s) and the array at index 1 has 1 dimension(s)",
          "output_type": "error",
          "traceback": [
            "\u001b[1;31m---------------------------------------------------------------------------\u001b[0m",
            "\u001b[1;31mValueError\u001b[0m                                Traceback (most recent call last)",
            "\u001b[1;32mc:\\Users\\samba\\Downloads\\Assignment_II_numpy_array_operations (1).ipynb Cell 8'\u001b[0m in \u001b[0;36m<cell line: 3>\u001b[1;34m()\u001b[0m\n\u001b[0;32m      <a href='vscode-notebook-cell:/c%3A/Users/samba/Downloads/Assignment_II_numpy_array_operations%20%281%29.ipynb#ch0000007?line=0'>1</a>\u001b[0m \u001b[39m# Example 3 - breaking (to illustrate when it breaks)\u001b[39;00m\n\u001b[0;32m      <a href='vscode-notebook-cell:/c%3A/Users/samba/Downloads/Assignment_II_numpy_array_operations%20%281%29.ipynb#ch0000007?line=1'>2</a>\u001b[0m arr3 \u001b[39m=\u001b[39m [[\u001b[39m2\u001b[39m, \u001b[39m4\u001b[39m, \u001b[39m5\u001b[39m], [\u001b[39m6\u001b[39m, \u001b[39m7\u001b[39m, \u001b[39m8\u001b[39m]]\n\u001b[1;32m----> <a href='vscode-notebook-cell:/c%3A/Users/samba/Downloads/Assignment_II_numpy_array_operations%20%281%29.ipynb#ch0000007?line=2'>3</a>\u001b[0m np\u001b[39m.\u001b[39;49mappend(arr3, [\u001b[39m14\u001b[39;49m, \u001b[39m15\u001b[39;49m, \u001b[39m16\u001b[39;49m], axis \u001b[39m=\u001b[39;49m \u001b[39m0\u001b[39;49m)\n",
            "File \u001b[1;32m<__array_function__ internals>:180\u001b[0m, in \u001b[0;36mappend\u001b[1;34m(*args, **kwargs)\u001b[0m\n",
            "File \u001b[1;32mc:\\Users\\samba\\AppData\\Local\\Programs\\Python\\Python310\\lib\\site-packages\\numpy\\lib\\function_base.py:5392\u001b[0m, in \u001b[0;36mappend\u001b[1;34m(arr, values, axis)\u001b[0m\n\u001b[0;32m   <a href='file:///c%3A/Users/samba/AppData/Local/Programs/Python/Python310/lib/site-packages/numpy/lib/function_base.py?line=5389'>5390</a>\u001b[0m     values \u001b[39m=\u001b[39m ravel(values)\n\u001b[0;32m   <a href='file:///c%3A/Users/samba/AppData/Local/Programs/Python/Python310/lib/site-packages/numpy/lib/function_base.py?line=5390'>5391</a>\u001b[0m     axis \u001b[39m=\u001b[39m arr\u001b[39m.\u001b[39mndim\u001b[39m-\u001b[39m\u001b[39m1\u001b[39m\n\u001b[1;32m-> <a href='file:///c%3A/Users/samba/AppData/Local/Programs/Python/Python310/lib/site-packages/numpy/lib/function_base.py?line=5391'>5392</a>\u001b[0m \u001b[39mreturn\u001b[39;00m concatenate((arr, values), axis\u001b[39m=\u001b[39;49maxis)\n",
            "File \u001b[1;32m<__array_function__ internals>:180\u001b[0m, in \u001b[0;36mconcatenate\u001b[1;34m(*args, **kwargs)\u001b[0m\n",
            "\u001b[1;31mValueError\u001b[0m: all the input arrays must have same number of dimensions, but the array at index 0 has 2 dimension(s) and the array at index 1 has 1 dimension(s)"
          ]
        }
      ],
      "source": [
        "# Example 3 - breaking (to illustrate when it breaks)\n",
        "arr3 = [[2, 4, 5], [6, 7, 8]]\n",
        "np.append(arr3, [14, 15, 16], axis = 0)"
      ]
    },
    {
      "cell_type": "markdown",
      "metadata": {
        "id": "SqYu4BnzGR9g"
      },
      "source": [
        "ValueError: all the input arrays must have same number of dimensions, but the array at index 0 has 2 dimension(s) and the array at index 1 has 1 dimension(s)"
      ]
    },
    {
      "cell_type": "markdown",
      "metadata": {
        "id": "MHiRxmcWGR9g"
      },
      "source": [
        "Some closing comments about when to use this function."
      ]
    },
    {
      "cell_type": "code",
      "execution_count": null,
      "metadata": {
        "colab": {
          "base_uri": "https://localhost:8080/"
        },
        "id": "sU-Nzxl1GR9g",
        "outputId": "1c3ef55e-f3ff-4b4b-a147-f88630f0f538"
      },
      "outputs": [
        {
          "data": {
            "text/plain": [
              "array([[ 2,  4,  5],\n",
              "       [ 6,  7,  8],\n",
              "       [14, 15, 16],\n",
              "       [12, 15, 16]])"
            ]
          },
          "execution_count": 17,
          "metadata": {},
          "output_type": "execute_result"
        }
      ],
      "source": [
        "# Fix\n",
        "arr3 = [[2, 4, 5], [6, 7, 8]]\n",
        "np.append(arr3, [[14, 15, 16], [12, 15, 16]], axis = 0)"
      ]
    },
    {
      "cell_type": "markdown",
      "metadata": {
        "id": "b_J9H7dLSHL_"
      },
      "source": [
        "In arr3, index 0 has 2 dimensions, while the element to be appended has 1 dimension, thus breaks down. To fix this, the element to be appended should have 2 dimensions as well."
      ]
    },
    {
      "cell_type": "markdown",
      "metadata": {
        "id": "UHBZ3gjCGR9h"
      },
      "source": [
        "## Function 2 - ???\n",
        "\n",
        "Add some explanations"
      ]
    },
    {
      "cell_type": "code",
      "execution_count": 5,
      "metadata": {
        "id": "UQlGO4oQGR9h"
      },
      "outputs": [
        {
          "data": {
            "text/plain": [
              "3.5"
            ]
          },
          "execution_count": 5,
          "metadata": {},
          "output_type": "execute_result"
        }
      ],
      "source": [
        "# Example 1 - working\n",
        "avg = np.array([1,7,2,4])\n",
        "np.average(avg)"
      ]
    },
    {
      "cell_type": "markdown",
      "metadata": {
        "id": "Ucbc8pbZGR9h"
      },
      "source": [
        "Explanation about example"
      ]
    },
    {
      "cell_type": "code",
      "execution_count": 6,
      "metadata": {
        "id": "bTedO6EWGR9h"
      },
      "outputs": [
        {
          "name": "stdout",
          "output_type": "stream",
          "text": [
            "Object `?` not found.\n"
          ]
        }
      ],
      "source": [
        "# Example 2 - working\n",
        "???"
      ]
    },
    {
      "cell_type": "markdown",
      "metadata": {
        "id": "euO2FPnpGR9i"
      },
      "source": [
        "Explanation about example"
      ]
    },
    {
      "cell_type": "code",
      "execution_count": 7,
      "metadata": {
        "id": "sMjeLEX2GR9i"
      },
      "outputs": [
        {
          "name": "stdout",
          "output_type": "stream",
          "text": [
            "Object `?` not found.\n"
          ]
        }
      ],
      "source": [
        "# Example 3 - breaking (to illustrate when it breaks)\n",
        "???"
      ]
    },
    {
      "cell_type": "markdown",
      "metadata": {
        "id": "jDfhDOpzGR9i"
      },
      "source": [
        "Explanation about example (why it breaks and how to fix it)"
      ]
    },
    {
      "cell_type": "markdown",
      "metadata": {
        "id": "ZhMnyD5SGR9i"
      },
      "source": [
        "Some closing comments about when to use this function."
      ]
    },
    {
      "cell_type": "markdown",
      "metadata": {
        "id": "TfRcZC6aGR9i"
      },
      "source": [
        "## Function 3 - ???\n",
        "\n",
        "Add some explanations"
      ]
    },
    {
      "cell_type": "code",
      "execution_count": 8,
      "metadata": {
        "id": "JtrKm_6IGR9j"
      },
      "outputs": [
        {
          "name": "stdout",
          "output_type": "stream",
          "text": [
            "[6.]\n"
          ]
        }
      ],
      "source": [
        "# Example 1 - working\n",
        "func2=np.arange(6,17,12.5)\n",
        "print(func2)"
      ]
    },
    {
      "cell_type": "markdown",
      "metadata": {
        "id": "D8r2wqr5GR9j"
      },
      "source": [
        "Explanation about example"
      ]
    },
    {
      "cell_type": "code",
      "execution_count": null,
      "metadata": {
        "id": "pdZlVysOGR9j"
      },
      "outputs": [],
      "source": [
        "# Example 2 - working\n",
        "???"
      ]
    },
    {
      "cell_type": "markdown",
      "metadata": {
        "id": "4q0E5GWMGR9j"
      },
      "source": [
        "Explanation about example"
      ]
    },
    {
      "cell_type": "code",
      "execution_count": null,
      "metadata": {
        "id": "yMHbGoQbGR9j"
      },
      "outputs": [],
      "source": [
        "# Example 3 - breaking (to illustrate when it breaks)\n",
        "???"
      ]
    },
    {
      "cell_type": "markdown",
      "metadata": {
        "id": "pNNg5euiGR9j"
      },
      "source": [
        "Explanation about example (why it breaks and how to fix it)"
      ]
    },
    {
      "cell_type": "markdown",
      "metadata": {
        "id": "5v6apGVJGR9j"
      },
      "source": [
        "Some closing comments about when to use this function."
      ]
    },
    {
      "cell_type": "markdown",
      "metadata": {
        "id": "QXgjSaKFGR9k"
      },
      "source": [
        "## Function 4 - ???\n",
        "\n",
        "Add some explanations"
      ]
    },
    {
      "cell_type": "code",
      "execution_count": 9,
      "metadata": {
        "id": "9r7duC1LGR9k"
      },
      "outputs": [
        {
          "name": "stdout",
          "output_type": "stream",
          "text": [
            "[[[1 2 3]\n",
            "  [4 5 6]]]\n",
            "[[1 2 3]\n",
            " [4 5 6]]\n"
          ]
        }
      ],
      "source": [
        "# Example 1 - working\n",
        "arr4 = np.array([[[1,2,3],[4,5,6]]])\n",
        "print(arr4)\n",
        "arr_squeeze = np.squeeze(arr4)\n",
        "print(arr_squeeze)"
      ]
    },
    {
      "cell_type": "markdown",
      "metadata": {
        "id": "CNWUZIxRGR9k"
      },
      "source": [
        "Explanation about example"
      ]
    },
    {
      "cell_type": "code",
      "execution_count": null,
      "metadata": {
        "id": "_dBBNHOBGR9k"
      },
      "outputs": [],
      "source": [
        "# Example 2 - working\n",
        "???"
      ]
    },
    {
      "cell_type": "markdown",
      "metadata": {
        "id": "W3piuExMGR9k"
      },
      "source": [
        "Explanation about example"
      ]
    },
    {
      "cell_type": "code",
      "execution_count": null,
      "metadata": {
        "id": "A4gQDXWNGR9k"
      },
      "outputs": [],
      "source": [
        "# Example 3 - breaking (to illustrate when it breaks)\n",
        "???"
      ]
    },
    {
      "cell_type": "markdown",
      "metadata": {
        "id": "dPPU0YZ5GR9l"
      },
      "source": [
        "Explanation about example (why it breaks and how to fix it)"
      ]
    },
    {
      "cell_type": "markdown",
      "metadata": {
        "id": "CsOKLwbKGR9l"
      },
      "source": [
        "Some closing comments about when to use this function."
      ]
    },
    {
      "cell_type": "markdown",
      "metadata": {
        "id": "4Eevnyo0GR9l"
      },
      "source": [
        "## Function 5 - ???\n",
        "\n",
        "Add some explanations"
      ]
    },
    {
      "cell_type": "code",
      "execution_count": 10,
      "metadata": {
        "id": "hWGZ_CjpGR9l"
      },
      "outputs": [
        {
          "name": "stdout",
          "output_type": "stream",
          "text": [
            "[[1 5 4]\n",
            " [6 7 1]]\n"
          ]
        }
      ],
      "source": [
        "# Example 1 - working\n",
        "arr1 = np.array([1,5,4])\n",
        "arr5 = np.array([6,7,1])\n",
        "v_stack = np.vstack((arr1,arr5))\n",
        "print(v_stack)"
      ]
    },
    {
      "cell_type": "markdown",
      "metadata": {
        "id": "Gtttw9fWGR9l"
      },
      "source": [
        "Explanation about example"
      ]
    },
    {
      "cell_type": "code",
      "execution_count": null,
      "metadata": {
        "id": "UWGFeBUQGR9l"
      },
      "outputs": [],
      "source": [
        "# Example 2 - working\n",
        "???"
      ]
    },
    {
      "cell_type": "markdown",
      "metadata": {
        "id": "8fIRSm0KGR9m"
      },
      "source": [
        "Explanation about example"
      ]
    },
    {
      "cell_type": "code",
      "execution_count": null,
      "metadata": {
        "id": "BuVqcGg1GR9m"
      },
      "outputs": [],
      "source": [
        "# Example 3 - breaking (to illustrate when it breaks)\n",
        "???"
      ]
    },
    {
      "cell_type": "markdown",
      "metadata": {
        "id": "1XVOIp7kGR9m"
      },
      "source": [
        "Explanation about example (why it breaks and how to fix it)"
      ]
    },
    {
      "cell_type": "markdown",
      "metadata": {
        "id": "Va-gXokWGR9m"
      },
      "source": [
        "Some closing comments about when to use this function."
      ]
    }
  ],
  "metadata": {
    "colab": {
      "name": "numpy-array-operations.ipynb",
      "provenance": []
    },
    "interpreter": {
      "hash": "3bc55daaef77f0fcc90d6fba05d1e32736ddaf6ba15131ad317d31169901ac9c"
    },
    "kernelspec": {
      "display_name": "Python 3.10.2 64-bit",
      "language": "python",
      "name": "python3"
    },
    "language_info": {
      "codemirror_mode": {
        "name": "ipython",
        "version": 3
      },
      "file_extension": ".py",
      "mimetype": "text/x-python",
      "name": "python",
      "nbconvert_exporter": "python",
      "pygments_lexer": "ipython3",
      "version": "3.10.2"
    }
  },
  "nbformat": 4,
  "nbformat_minor": 0
}
